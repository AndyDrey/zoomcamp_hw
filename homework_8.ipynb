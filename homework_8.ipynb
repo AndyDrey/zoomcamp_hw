{
 "cells": [
  {
   "cell_type": "code",
   "execution_count": 1,
   "id": "15985653",
   "metadata": {},
   "outputs": [
    {
     "name": "stderr",
     "output_type": "stream",
     "text": [
      "2023-11-22 16:58:37.825775: I tensorflow/core/util/util.cc:169] oneDNN custom operations are on. You may see slightly different numerical results due to floating-point round-off errors from different computation orders. To turn them off, set the environment variable `TF_ENABLE_ONEDNN_OPTS=0`.\n"
     ]
    }
   ],
   "source": [
    "import tensorflow as tf\n",
    "import pandas as pd\n",
    "import numpy as np\n",
    "import matplotlib.pyplot as plt\n",
    "from tensorflow import keras\n",
    "from keras.layers import Dense, Input, Conv2D, MaxPooling2D, Flatten, GlobalAveragePooling2D\n",
    "from keras.applications.xception import Xception\n",
    "from keras.applications.xception import preprocess_input\n",
    "from keras.applications.xception import decode_predictions\n",
    "from keras.preprocessing.image import ImageDataGenerator\n",
    "\n",
    "from keras.optimizers import SGD"
   ]
  },
  {
   "cell_type": "code",
   "execution_count": 2,
   "id": "fae20eda",
   "metadata": {},
   "outputs": [
    {
     "name": "stdout",
     "output_type": "stream",
     "text": [
      "Found 3677 images belonging to 2 classes.\n",
      "Found 918 images belonging to 2 classes.\n"
     ]
    }
   ],
   "source": [
    "batch_size = 20\n",
    "size = 150\n",
    "optimizer = keras.optimizers.SGD(learning_rate=0.002, momentum=0.8)\n",
    "image_generator = ImageDataGenerator(rescale= 1/255)\n",
    "train_generator = image_generator.flow_from_directory('data/train/', target_size=(size, size), batch_size=batch_size, shuffle=True, class_mode='binary')\n",
    "test_generator = image_generator.flow_from_directory('data/test/', target_size=(size, size), batch_size=batch_size, shuffle=True, class_mode='binary')"
   ]
  },
  {
   "cell_type": "code",
   "execution_count": 3,
   "id": "9199c2d8",
   "metadata": {},
   "outputs": [
    {
     "name": "stderr",
     "output_type": "stream",
     "text": [
      "2023-11-22 16:59:24.489166: I tensorflow/stream_executor/cuda/cuda_gpu_executor.cc:975] successful NUMA node read from SysFS had negative value (-1), but there must be at least one NUMA node, so returning NUMA node zero\n",
      "2023-11-22 16:59:24.495196: I tensorflow/stream_executor/cuda/cuda_gpu_executor.cc:975] successful NUMA node read from SysFS had negative value (-1), but there must be at least one NUMA node, so returning NUMA node zero\n",
      "2023-11-22 16:59:24.495771: I tensorflow/stream_executor/cuda/cuda_gpu_executor.cc:975] successful NUMA node read from SysFS had negative value (-1), but there must be at least one NUMA node, so returning NUMA node zero\n",
      "2023-11-22 16:59:24.496788: I tensorflow/core/platform/cpu_feature_guard.cc:193] This TensorFlow binary is optimized with oneAPI Deep Neural Network Library (oneDNN) to use the following CPU instructions in performance-critical operations:  AVX2 AVX512F AVX512_VNNI FMA\n",
      "To enable them in other operations, rebuild TensorFlow with the appropriate compiler flags.\n",
      "2023-11-22 16:59:24.497048: I tensorflow/stream_executor/cuda/cuda_gpu_executor.cc:975] successful NUMA node read from SysFS had negative value (-1), but there must be at least one NUMA node, so returning NUMA node zero\n",
      "2023-11-22 16:59:24.497636: I tensorflow/stream_executor/cuda/cuda_gpu_executor.cc:975] successful NUMA node read from SysFS had negative value (-1), but there must be at least one NUMA node, so returning NUMA node zero\n",
      "2023-11-22 16:59:24.498169: I tensorflow/stream_executor/cuda/cuda_gpu_executor.cc:975] successful NUMA node read from SysFS had negative value (-1), but there must be at least one NUMA node, so returning NUMA node zero\n",
      "2023-11-22 16:59:25.138713: I tensorflow/stream_executor/cuda/cuda_gpu_executor.cc:975] successful NUMA node read from SysFS had negative value (-1), but there must be at least one NUMA node, so returning NUMA node zero\n",
      "2023-11-22 16:59:25.139299: I tensorflow/stream_executor/cuda/cuda_gpu_executor.cc:975] successful NUMA node read from SysFS had negative value (-1), but there must be at least one NUMA node, so returning NUMA node zero\n",
      "2023-11-22 16:59:25.139830: I tensorflow/stream_executor/cuda/cuda_gpu_executor.cc:975] successful NUMA node read from SysFS had negative value (-1), but there must be at least one NUMA node, so returning NUMA node zero\n",
      "2023-11-22 16:59:25.140318: I tensorflow/core/common_runtime/gpu/gpu_device.cc:1532] Created device /job:localhost/replica:0/task:0/device:GPU:0 with 13795 MB memory:  -> device: 0, name: Tesla T4, pci bus id: 0000:00:1e.0, compute capability: 7.5\n"
     ]
    }
   ],
   "source": [
    "input = Input(shape=(size, size, 3))\n",
    "conv_2d = Conv2D(32, (3, 3), activation='relu')(input)\n",
    "max_pool_2d = MaxPooling2D((2, 2))(conv_2d)\n",
    "flatten = Flatten()(max_pool_2d)\n",
    "dense = Dense(64, activation='relu')(flatten)\n",
    "output = Dense(1, activation='sigmoid')(dense)\n",
    "\n",
    "model = keras.Model(input, output)"
   ]
  },
  {
   "cell_type": "code",
   "execution_count": 4,
   "id": "dd93c82f",
   "metadata": {},
   "outputs": [
    {
     "name": "stdout",
     "output_type": "stream",
     "text": [
      "Epoch 1/10\n"
     ]
    },
    {
     "name": "stderr",
     "output_type": "stream",
     "text": [
      "2023-11-22 16:59:31.404812: I tensorflow/stream_executor/cuda/cuda_dnn.cc:384] Loaded cuDNN version 8100\n",
      "2023-11-22 16:59:32.035396: I tensorflow/core/platform/default/subprocess.cc:304] Start cannot spawn child process: No such file or directory\n",
      "2023-11-22 16:59:32.035893: I tensorflow/core/platform/default/subprocess.cc:304] Start cannot spawn child process: No such file or directory\n",
      "2023-11-22 16:59:32.035933: W tensorflow/stream_executor/gpu/asm_compiler.cc:80] Couldn't get ptxas version string: INTERNAL: Couldn't invoke ptxas --version\n",
      "2023-11-22 16:59:32.036447: I tensorflow/core/platform/default/subprocess.cc:304] Start cannot spawn child process: No such file or directory\n",
      "2023-11-22 16:59:32.036535: W tensorflow/stream_executor/gpu/redzone_allocator.cc:314] INTERNAL: Failed to launch ptxas\n",
      "Relying on driver to perform ptx compilation. \n",
      "Modify $PATH to customize ptxas location.\n",
      "This message will be only logged once.\n"
     ]
    },
    {
     "name": "stdout",
     "output_type": "stream",
     "text": [
      "184/184 [==============================] - 13s 58ms/step - loss: 0.6909 - accuracy: 0.5328 - val_loss: 0.6640 - val_accuracy: 0.5893\n",
      "Epoch 2/10\n",
      "184/184 [==============================] - 8s 42ms/step - loss: 0.6648 - accuracy: 0.5883 - val_loss: 0.6262 - val_accuracy: 0.6373\n",
      "Epoch 3/10\n",
      "184/184 [==============================] - 8s 42ms/step - loss: 0.6400 - accuracy: 0.6274 - val_loss: 0.6074 - val_accuracy: 0.6405\n",
      "Epoch 4/10\n",
      "184/184 [==============================] - 8s 42ms/step - loss: 0.6013 - accuracy: 0.6698 - val_loss: 0.6127 - val_accuracy: 0.6405\n",
      "Epoch 5/10\n",
      "184/184 [==============================] - 8s 43ms/step - loss: 0.5521 - accuracy: 0.7283 - val_loss: 0.5396 - val_accuracy: 0.7255\n",
      "Epoch 6/10\n",
      "184/184 [==============================] - 8s 42ms/step - loss: 0.5209 - accuracy: 0.7498 - val_loss: 0.5360 - val_accuracy: 0.7298\n",
      "Epoch 7/10\n",
      "184/184 [==============================] - 8s 42ms/step - loss: 0.4988 - accuracy: 0.7756 - val_loss: 0.5545 - val_accuracy: 0.7298\n",
      "Epoch 8/10\n",
      "184/184 [==============================] - 8s 42ms/step - loss: 0.4748 - accuracy: 0.7841 - val_loss: 0.5347 - val_accuracy: 0.7353\n",
      "Epoch 9/10\n",
      "184/184 [==============================] - 8s 43ms/step - loss: 0.4565 - accuracy: 0.7968 - val_loss: 0.5037 - val_accuracy: 0.7625\n",
      "Epoch 10/10\n",
      "184/184 [==============================] - 8s 41ms/step - loss: 0.4330 - accuracy: 0.8110 - val_loss: 0.5184 - val_accuracy: 0.7647\n"
     ]
    }
   ],
   "source": [
    "model.compile(optimizer=optimizer, loss='binary_crossentropy', metrics=[\"accuracy\"])\n",
    "history = model.fit(\n",
    "    train_generator,\n",
    "    epochs=10,\n",
    "    validation_data=test_generator\n",
    ")"
   ]
  },
  {
   "cell_type": "code",
   "execution_count": 6,
   "id": "30bb40bd",
   "metadata": {},
   "outputs": [
    {
     "data": {
      "text/plain": [
       "0.7390535771846771"
      ]
     },
     "execution_count": 6,
     "metadata": {},
     "output_type": "execute_result"
    }
   ],
   "source": [
    "np.median(history.history['accuracy'])"
   ]
  },
  {
   "cell_type": "code",
   "execution_count": 7,
   "id": "22e56dc1",
   "metadata": {},
   "outputs": [
    {
     "data": {
      "text/plain": [
       "0.09164517243599504"
      ]
     },
     "execution_count": 7,
     "metadata": {},
     "output_type": "execute_result"
    }
   ],
   "source": [
    "np.std(history.history['accuracy'])"
   ]
  },
  {
   "cell_type": "code",
   "execution_count": 8,
   "id": "dd035c6a",
   "metadata": {},
   "outputs": [
    {
     "data": {
      "text/plain": [
       "0.5697182416915894"
      ]
     },
     "execution_count": 8,
     "metadata": {},
     "output_type": "execute_result"
    }
   ],
   "source": [
    "np.mean(history.history['val_loss'])"
   ]
  },
  {
   "cell_type": "code",
   "execution_count": 9,
   "id": "63a87e2b",
   "metadata": {},
   "outputs": [
    {
     "data": {
      "text/plain": [
       "0.7480936795473099"
      ]
     },
     "execution_count": 9,
     "metadata": {},
     "output_type": "execute_result"
    }
   ],
   "source": [
    "np.average(history.history['val_accuracy'][6:])"
   ]
  },
  {
   "cell_type": "code",
   "execution_count": null,
   "id": "bab3fd12",
   "metadata": {},
   "outputs": [],
   "source": []
  }
 ],
 "metadata": {
  "kernelspec": {
   "display_name": "saturn (Python 3)",
   "language": "python",
   "name": "python3"
  },
  "language_info": {
   "codemirror_mode": {
    "name": "ipython",
    "version": 3
   },
   "file_extension": ".py",
   "mimetype": "text/x-python",
   "name": "python",
   "nbconvert_exporter": "python",
   "pygments_lexer": "ipython3",
   "version": "3.9.13"
  }
 },
 "nbformat": 4,
 "nbformat_minor": 5
}
