{
 "cells": [
  {
   "cell_type": "code",
   "execution_count": 1,
   "metadata": {},
   "outputs": [],
   "source": [
    "import numpy as np\n",
    "import pandas as pd\n",
    "from matplotlib import pyplot as plt\n",
    "from sklearn.model_selection import train_test_split\n",
    "from sklearn.feature_extraction import DictVectorizer\n",
    "from sklearn.feature_extraction.text import CountVectorizer\n",
    "from sklearn.tree import DecisionTreeRegressor\n",
    "from sklearn.ensemble import RandomForestRegressor\n",
    "from sklearn.tree import export_text\n",
    "from sklearn.metrics import mean_squared_error, mutual_info_score\n",
    "import xgboost as xgb\n",
    "\n",
    "from IPython.display import display\n",
    "import requests"
   ]
  },
  {
   "cell_type": "code",
   "execution_count": 2,
   "metadata": {},
   "outputs": [],
   "source": [
    "df = pd.read_csv(\"stroke_prediction_dataset.csv\")"
   ]
  },
  {
   "cell_type": "code",
   "execution_count": 3,
   "metadata": {},
   "outputs": [
    {
     "data": {
      "text/plain": [
       "Index(['Patient ID', 'Patient Name', 'Age', 'Gender', 'Hypertension',\n",
       "       'Heart Disease', 'Marital Status', 'Work Type', 'Residence Type',\n",
       "       'Average Glucose Level', 'Body Mass Index (BMI)', 'Smoking Status',\n",
       "       'Alcohol Intake', 'Physical Activity', 'Stroke History',\n",
       "       'Family History of Stroke', 'Dietary Habits', 'Stress Levels',\n",
       "       'Blood Pressure Levels', 'Cholesterol Levels', 'Symptoms', 'Diagnosis'],\n",
       "      dtype='object')"
      ]
     },
     "execution_count": 3,
     "metadata": {},
     "output_type": "execute_result"
    }
   ],
   "source": [
    "df.columns"
   ]
  },
  {
   "cell_type": "code",
   "execution_count": 4,
   "metadata": {},
   "outputs": [
    {
     "data": {
      "text/html": [
       "<div>\n",
       "<style scoped>\n",
       "    .dataframe tbody tr th:only-of-type {\n",
       "        vertical-align: middle;\n",
       "    }\n",
       "\n",
       "    .dataframe tbody tr th {\n",
       "        vertical-align: top;\n",
       "    }\n",
       "\n",
       "    .dataframe thead th {\n",
       "        text-align: right;\n",
       "    }\n",
       "</style>\n",
       "<table border=\"1\" class=\"dataframe\">\n",
       "  <thead>\n",
       "    <tr style=\"text-align: right;\">\n",
       "      <th></th>\n",
       "      <th>Patient ID</th>\n",
       "      <th>Patient Name</th>\n",
       "      <th>Age</th>\n",
       "      <th>Gender</th>\n",
       "      <th>Hypertension</th>\n",
       "      <th>Heart Disease</th>\n",
       "      <th>Marital Status</th>\n",
       "      <th>Work Type</th>\n",
       "      <th>Residence Type</th>\n",
       "      <th>Average Glucose Level</th>\n",
       "      <th>...</th>\n",
       "      <th>Alcohol Intake</th>\n",
       "      <th>Physical Activity</th>\n",
       "      <th>Stroke History</th>\n",
       "      <th>Family History of Stroke</th>\n",
       "      <th>Dietary Habits</th>\n",
       "      <th>Stress Levels</th>\n",
       "      <th>Blood Pressure Levels</th>\n",
       "      <th>Cholesterol Levels</th>\n",
       "      <th>Symptoms</th>\n",
       "      <th>Diagnosis</th>\n",
       "    </tr>\n",
       "  </thead>\n",
       "  <tbody>\n",
       "    <tr>\n",
       "      <th>0</th>\n",
       "      <td>18153</td>\n",
       "      <td>Mamooty Khurana</td>\n",
       "      <td>56</td>\n",
       "      <td>Male</td>\n",
       "      <td>0</td>\n",
       "      <td>1</td>\n",
       "      <td>Married</td>\n",
       "      <td>Self-employed</td>\n",
       "      <td>Rural</td>\n",
       "      <td>130.91</td>\n",
       "      <td>...</td>\n",
       "      <td>Social Drinker</td>\n",
       "      <td>Moderate</td>\n",
       "      <td>0</td>\n",
       "      <td>Yes</td>\n",
       "      <td>Vegan</td>\n",
       "      <td>3.48</td>\n",
       "      <td>140/108</td>\n",
       "      <td>HDL: 68, LDL: 133</td>\n",
       "      <td>Difficulty Speaking, Headache</td>\n",
       "      <td>Stroke</td>\n",
       "    </tr>\n",
       "    <tr>\n",
       "      <th>1</th>\n",
       "      <td>62749</td>\n",
       "      <td>Kaira Subramaniam</td>\n",
       "      <td>80</td>\n",
       "      <td>Male</td>\n",
       "      <td>0</td>\n",
       "      <td>0</td>\n",
       "      <td>Single</td>\n",
       "      <td>Self-employed</td>\n",
       "      <td>Urban</td>\n",
       "      <td>183.73</td>\n",
       "      <td>...</td>\n",
       "      <td>Never</td>\n",
       "      <td>Low</td>\n",
       "      <td>0</td>\n",
       "      <td>No</td>\n",
       "      <td>Paleo</td>\n",
       "      <td>1.73</td>\n",
       "      <td>146/91</td>\n",
       "      <td>HDL: 63, LDL: 70</td>\n",
       "      <td>Loss of Balance, Headache, Dizziness, Confusion</td>\n",
       "      <td>Stroke</td>\n",
       "    </tr>\n",
       "    <tr>\n",
       "      <th>2</th>\n",
       "      <td>32145</td>\n",
       "      <td>Dhanush Balan</td>\n",
       "      <td>26</td>\n",
       "      <td>Male</td>\n",
       "      <td>1</td>\n",
       "      <td>1</td>\n",
       "      <td>Married</td>\n",
       "      <td>Never Worked</td>\n",
       "      <td>Rural</td>\n",
       "      <td>189.00</td>\n",
       "      <td>...</td>\n",
       "      <td>Rarely</td>\n",
       "      <td>High</td>\n",
       "      <td>0</td>\n",
       "      <td>Yes</td>\n",
       "      <td>Paleo</td>\n",
       "      <td>7.31</td>\n",
       "      <td>154/97</td>\n",
       "      <td>HDL: 59, LDL: 95</td>\n",
       "      <td>Seizures, Dizziness</td>\n",
       "      <td>Stroke</td>\n",
       "    </tr>\n",
       "    <tr>\n",
       "      <th>3</th>\n",
       "      <td>6154</td>\n",
       "      <td>Ivana Baral</td>\n",
       "      <td>73</td>\n",
       "      <td>Male</td>\n",
       "      <td>0</td>\n",
       "      <td>0</td>\n",
       "      <td>Married</td>\n",
       "      <td>Never Worked</td>\n",
       "      <td>Urban</td>\n",
       "      <td>185.29</td>\n",
       "      <td>...</td>\n",
       "      <td>Frequent Drinker</td>\n",
       "      <td>Moderate</td>\n",
       "      <td>0</td>\n",
       "      <td>No</td>\n",
       "      <td>Paleo</td>\n",
       "      <td>5.35</td>\n",
       "      <td>174/81</td>\n",
       "      <td>HDL: 70, LDL: 137</td>\n",
       "      <td>Seizures, Blurred Vision, Severe Fatigue, Head...</td>\n",
       "      <td>No Stroke</td>\n",
       "    </tr>\n",
       "    <tr>\n",
       "      <th>4</th>\n",
       "      <td>48973</td>\n",
       "      <td>Darshit Jayaraman</td>\n",
       "      <td>51</td>\n",
       "      <td>Male</td>\n",
       "      <td>1</td>\n",
       "      <td>1</td>\n",
       "      <td>Divorced</td>\n",
       "      <td>Self-employed</td>\n",
       "      <td>Urban</td>\n",
       "      <td>177.34</td>\n",
       "      <td>...</td>\n",
       "      <td>Rarely</td>\n",
       "      <td>Low</td>\n",
       "      <td>0</td>\n",
       "      <td>Yes</td>\n",
       "      <td>Pescatarian</td>\n",
       "      <td>6.84</td>\n",
       "      <td>121/95</td>\n",
       "      <td>HDL: 65, LDL: 68</td>\n",
       "      <td>Difficulty Speaking</td>\n",
       "      <td>Stroke</td>\n",
       "    </tr>\n",
       "  </tbody>\n",
       "</table>\n",
       "<p>5 rows × 22 columns</p>\n",
       "</div>"
      ],
      "text/plain": [
       "   Patient ID       Patient Name  Age Gender  Hypertension  Heart Disease  \\\n",
       "0       18153    Mamooty Khurana   56   Male             0              1   \n",
       "1       62749  Kaira Subramaniam   80   Male             0              0   \n",
       "2       32145      Dhanush Balan   26   Male             1              1   \n",
       "3        6154        Ivana Baral   73   Male             0              0   \n",
       "4       48973  Darshit Jayaraman   51   Male             1              1   \n",
       "\n",
       "  Marital Status      Work Type Residence Type  Average Glucose Level  ...  \\\n",
       "0        Married  Self-employed          Rural                 130.91  ...   \n",
       "1         Single  Self-employed          Urban                 183.73  ...   \n",
       "2        Married   Never Worked          Rural                 189.00  ...   \n",
       "3        Married   Never Worked          Urban                 185.29  ...   \n",
       "4       Divorced  Self-employed          Urban                 177.34  ...   \n",
       "\n",
       "     Alcohol Intake Physical Activity Stroke History Family History of Stroke  \\\n",
       "0    Social Drinker          Moderate              0                      Yes   \n",
       "1             Never               Low              0                       No   \n",
       "2            Rarely              High              0                      Yes   \n",
       "3  Frequent Drinker          Moderate              0                       No   \n",
       "4            Rarely               Low              0                      Yes   \n",
       "\n",
       "   Dietary Habits Stress Levels Blood Pressure Levels  Cholesterol Levels  \\\n",
       "0           Vegan          3.48               140/108   HDL: 68, LDL: 133   \n",
       "1           Paleo          1.73                146/91    HDL: 63, LDL: 70   \n",
       "2           Paleo          7.31                154/97    HDL: 59, LDL: 95   \n",
       "3           Paleo          5.35                174/81   HDL: 70, LDL: 137   \n",
       "4     Pescatarian          6.84                121/95    HDL: 65, LDL: 68   \n",
       "\n",
       "                                            Symptoms  Diagnosis  \n",
       "0                      Difficulty Speaking, Headache     Stroke  \n",
       "1    Loss of Balance, Headache, Dizziness, Confusion     Stroke  \n",
       "2                                Seizures, Dizziness     Stroke  \n",
       "3  Seizures, Blurred Vision, Severe Fatigue, Head...  No Stroke  \n",
       "4                                Difficulty Speaking     Stroke  \n",
       "\n",
       "[5 rows x 22 columns]"
      ]
     },
     "execution_count": 4,
     "metadata": {},
     "output_type": "execute_result"
    }
   ],
   "source": [
    "df.head()"
   ]
  },
  {
   "cell_type": "code",
   "execution_count": 5,
   "metadata": {},
   "outputs": [],
   "source": [
    "del df[\"Patient ID\"]\n",
    "del df[\"Patient Name\"]\n",
    "df.columns = df.columns.str.lower().str.replace(\" \", \"_\")"
   ]
  },
  {
   "cell_type": "code",
   "execution_count": 6,
   "metadata": {},
   "outputs": [
    {
     "data": {
      "text/html": [
       "<div>\n",
       "<style scoped>\n",
       "    .dataframe tbody tr th:only-of-type {\n",
       "        vertical-align: middle;\n",
       "    }\n",
       "\n",
       "    .dataframe tbody tr th {\n",
       "        vertical-align: top;\n",
       "    }\n",
       "\n",
       "    .dataframe thead th {\n",
       "        text-align: right;\n",
       "    }\n",
       "</style>\n",
       "<table border=\"1\" class=\"dataframe\">\n",
       "  <thead>\n",
       "    <tr style=\"text-align: right;\">\n",
       "      <th></th>\n",
       "      <th>age</th>\n",
       "      <th>hypertension</th>\n",
       "      <th>heart_disease</th>\n",
       "      <th>average_glucose_level</th>\n",
       "      <th>body_mass_index_(bmi)</th>\n",
       "      <th>stroke_history</th>\n",
       "      <th>stress_levels</th>\n",
       "    </tr>\n",
       "  </thead>\n",
       "  <tbody>\n",
       "    <tr>\n",
       "      <th>count</th>\n",
       "      <td>15000.000000</td>\n",
       "      <td>15000.000000</td>\n",
       "      <td>15000.000000</td>\n",
       "      <td>15000.000000</td>\n",
       "      <td>15000.000000</td>\n",
       "      <td>15000.000000</td>\n",
       "      <td>15000.000000</td>\n",
       "    </tr>\n",
       "    <tr>\n",
       "      <th>mean</th>\n",
       "      <td>54.035667</td>\n",
       "      <td>0.249000</td>\n",
       "      <td>0.502933</td>\n",
       "      <td>129.445209</td>\n",
       "      <td>27.474302</td>\n",
       "      <td>0.500267</td>\n",
       "      <td>5.022694</td>\n",
       "    </tr>\n",
       "    <tr>\n",
       "      <th>std</th>\n",
       "      <td>21.063111</td>\n",
       "      <td>0.432448</td>\n",
       "      <td>0.500008</td>\n",
       "      <td>40.487792</td>\n",
       "      <td>7.230201</td>\n",
       "      <td>0.500017</td>\n",
       "      <td>2.873223</td>\n",
       "    </tr>\n",
       "    <tr>\n",
       "      <th>min</th>\n",
       "      <td>18.000000</td>\n",
       "      <td>0.000000</td>\n",
       "      <td>0.000000</td>\n",
       "      <td>60.000000</td>\n",
       "      <td>15.010000</td>\n",
       "      <td>0.000000</td>\n",
       "      <td>0.000000</td>\n",
       "    </tr>\n",
       "    <tr>\n",
       "      <th>25%</th>\n",
       "      <td>36.000000</td>\n",
       "      <td>0.000000</td>\n",
       "      <td>0.000000</td>\n",
       "      <td>94.517500</td>\n",
       "      <td>21.160000</td>\n",
       "      <td>0.000000</td>\n",
       "      <td>2.540000</td>\n",
       "    </tr>\n",
       "    <tr>\n",
       "      <th>50%</th>\n",
       "      <td>54.000000</td>\n",
       "      <td>0.000000</td>\n",
       "      <td>1.000000</td>\n",
       "      <td>128.900000</td>\n",
       "      <td>27.420000</td>\n",
       "      <td>1.000000</td>\n",
       "      <td>5.050000</td>\n",
       "    </tr>\n",
       "    <tr>\n",
       "      <th>75%</th>\n",
       "      <td>72.000000</td>\n",
       "      <td>0.000000</td>\n",
       "      <td>1.000000</td>\n",
       "      <td>164.592500</td>\n",
       "      <td>33.720000</td>\n",
       "      <td>1.000000</td>\n",
       "      <td>7.520000</td>\n",
       "    </tr>\n",
       "    <tr>\n",
       "      <th>max</th>\n",
       "      <td>90.000000</td>\n",
       "      <td>1.000000</td>\n",
       "      <td>1.000000</td>\n",
       "      <td>200.000000</td>\n",
       "      <td>40.000000</td>\n",
       "      <td>1.000000</td>\n",
       "      <td>10.000000</td>\n",
       "    </tr>\n",
       "  </tbody>\n",
       "</table>\n",
       "</div>"
      ],
      "text/plain": [
       "                age  hypertension  heart_disease  average_glucose_level  \\\n",
       "count  15000.000000  15000.000000   15000.000000           15000.000000   \n",
       "mean      54.035667      0.249000       0.502933             129.445209   \n",
       "std       21.063111      0.432448       0.500008              40.487792   \n",
       "min       18.000000      0.000000       0.000000              60.000000   \n",
       "25%       36.000000      0.000000       0.000000              94.517500   \n",
       "50%       54.000000      0.000000       1.000000             128.900000   \n",
       "75%       72.000000      0.000000       1.000000             164.592500   \n",
       "max       90.000000      1.000000       1.000000             200.000000   \n",
       "\n",
       "       body_mass_index_(bmi)  stroke_history  stress_levels  \n",
       "count           15000.000000    15000.000000   15000.000000  \n",
       "mean               27.474302        0.500267       5.022694  \n",
       "std                 7.230201        0.500017       2.873223  \n",
       "min                15.010000        0.000000       0.000000  \n",
       "25%                21.160000        0.000000       2.540000  \n",
       "50%                27.420000        1.000000       5.050000  \n",
       "75%                33.720000        1.000000       7.520000  \n",
       "max                40.000000        1.000000      10.000000  "
      ]
     },
     "execution_count": 6,
     "metadata": {},
     "output_type": "execute_result"
    }
   ],
   "source": [
    "df.describe()"
   ]
  },
  {
   "cell_type": "code",
   "execution_count": 7,
   "metadata": {},
   "outputs": [
    {
     "data": {
      "text/plain": [
       "age                           int64\n",
       "gender                       object\n",
       "hypertension                  int64\n",
       "heart_disease                 int64\n",
       "marital_status               object\n",
       "work_type                    object\n",
       "residence_type               object\n",
       "average_glucose_level       float64\n",
       "body_mass_index_(bmi)       float64\n",
       "smoking_status               object\n",
       "alcohol_intake               object\n",
       "physical_activity            object\n",
       "stroke_history                int64\n",
       "family_history_of_stroke     object\n",
       "dietary_habits               object\n",
       "stress_levels               float64\n",
       "blood_pressure_levels        object\n",
       "cholesterol_levels           object\n",
       "symptoms                     object\n",
       "diagnosis                    object\n",
       "dtype: object"
      ]
     },
     "execution_count": 7,
     "metadata": {},
     "output_type": "execute_result"
    }
   ],
   "source": [
    "df.dtypes"
   ]
  },
  {
   "cell_type": "code",
   "execution_count": 8,
   "metadata": {},
   "outputs": [
    {
     "data": {
      "text/plain": [
       "age                            0\n",
       "gender                         0\n",
       "hypertension                   0\n",
       "heart_disease                  0\n",
       "marital_status                 0\n",
       "work_type                      0\n",
       "residence_type                 0\n",
       "average_glucose_level          0\n",
       "body_mass_index_(bmi)          0\n",
       "smoking_status                 0\n",
       "alcohol_intake                 0\n",
       "physical_activity              0\n",
       "stroke_history                 0\n",
       "family_history_of_stroke       0\n",
       "dietary_habits                 0\n",
       "stress_levels                  0\n",
       "blood_pressure_levels          0\n",
       "cholesterol_levels             0\n",
       "symptoms                    2500\n",
       "diagnosis                      0\n",
       "dtype: int64"
      ]
     },
     "execution_count": 8,
     "metadata": {},
     "output_type": "execute_result"
    }
   ],
   "source": [
    "df.isna().sum()"
   ]
  },
  {
   "cell_type": "code",
   "execution_count": 9,
   "metadata": {},
   "outputs": [],
   "source": [
    "df['symptoms'] = df['symptoms'].fillna(\"No symptoms\")\n",
    "df['diagnosis'] = (df['diagnosis'] == \"Stroke\").astype(int)"
   ]
  },
  {
   "cell_type": "code",
   "execution_count": 10,
   "metadata": {},
   "outputs": [
    {
     "data": {
      "text/plain": [
       "diagnosis\n",
       "0    7532\n",
       "1    7468\n",
       "Name: count, dtype: int64"
      ]
     },
     "execution_count": 10,
     "metadata": {},
     "output_type": "execute_result"
    }
   ],
   "source": [
    "df[\"diagnosis\"].value_counts()"
   ]
  },
  {
   "cell_type": "code",
   "execution_count": 11,
   "metadata": {},
   "outputs": [
    {
     "data": {
      "text/plain": [
       "0.4978666666666667"
      ]
     },
     "execution_count": 11,
     "metadata": {},
     "output_type": "execute_result"
    }
   ],
   "source": [
    "global_mean = df[\"diagnosis\"].mean()\n",
    "global_mean"
   ]
  },
  {
   "cell_type": "code",
   "execution_count": 12,
   "metadata": {},
   "outputs": [
    {
     "data": {
      "text/plain": [
       "age                           73\n",
       "gender                         2\n",
       "hypertension                   2\n",
       "heart_disease                  2\n",
       "marital_status                 3\n",
       "work_type                      4\n",
       "residence_type                 2\n",
       "average_glucose_level       9215\n",
       "body_mass_index_(bmi)       2490\n",
       "smoking_status                 3\n",
       "alcohol_intake                 4\n",
       "physical_activity              3\n",
       "stroke_history                 2\n",
       "family_history_of_stroke       2\n",
       "dietary_habits                 7\n",
       "stress_levels               1001\n",
       "blood_pressure_levels       4458\n",
       "cholesterol_levels          5952\n",
       "symptoms                    5787\n",
       "diagnosis                      2\n",
       "dtype: int64"
      ]
     },
     "execution_count": 12,
     "metadata": {},
     "output_type": "execute_result"
    }
   ],
   "source": [
    "df.nunique()"
   ]
  },
  {
   "cell_type": "code",
   "execution_count": 13,
   "metadata": {},
   "outputs": [
    {
     "data": {
      "text/plain": [
       "['gender',\n",
       " 'marital_status',\n",
       " 'work_type',\n",
       " 'residence_type',\n",
       " 'smoking_status',\n",
       " 'alcohol_intake',\n",
       " 'physical_activity',\n",
       " 'family_history_of_stroke',\n",
       " 'dietary_habits']"
      ]
     },
     "execution_count": 13,
     "metadata": {},
     "output_type": "execute_result"
    }
   ],
   "source": [
    "# CONSTANTS\n",
    "to_remove = [\"blood_pressure_levels\", \"cholesterol_levels\", \"symptoms\"]\n",
    "\n",
    "categorical = df.select_dtypes(include='object').columns.tolist()\n",
    "\n",
    "for item in to_remove:\n",
    "    categorical.remove(item)\n",
    "categorical"
   ]
  },
  {
   "cell_type": "code",
   "execution_count": 14,
   "metadata": {},
   "outputs": [
    {
     "data": {
      "text/html": [
       "<div>\n",
       "<style scoped>\n",
       "    .dataframe tbody tr th:only-of-type {\n",
       "        vertical-align: middle;\n",
       "    }\n",
       "\n",
       "    .dataframe tbody tr th {\n",
       "        vertical-align: top;\n",
       "    }\n",
       "\n",
       "    .dataframe thead th {\n",
       "        text-align: right;\n",
       "    }\n",
       "</style>\n",
       "<table border=\"1\" class=\"dataframe\">\n",
       "  <thead>\n",
       "    <tr style=\"text-align: right;\">\n",
       "      <th></th>\n",
       "      <th>mean</th>\n",
       "      <th>diff</th>\n",
       "      <th>risk</th>\n",
       "    </tr>\n",
       "    <tr>\n",
       "      <th>gender</th>\n",
       "      <th></th>\n",
       "      <th></th>\n",
       "      <th></th>\n",
       "    </tr>\n",
       "  </thead>\n",
       "  <tbody>\n",
       "    <tr>\n",
       "      <th>Female</th>\n",
       "      <td>0.497289</td>\n",
       "      <td>-0.000577</td>\n",
       "      <td>0.998840</td>\n",
       "    </tr>\n",
       "    <tr>\n",
       "      <th>Male</th>\n",
       "      <td>0.498426</td>\n",
       "      <td>0.000559</td>\n",
       "      <td>1.001123</td>\n",
       "    </tr>\n",
       "  </tbody>\n",
       "</table>\n",
       "</div>"
      ],
      "text/plain": [
       "            mean      diff      risk\n",
       "gender                              \n",
       "Female  0.497289 -0.000577  0.998840\n",
       "Male    0.498426  0.000559  1.001123"
      ]
     },
     "metadata": {},
     "output_type": "display_data"
    },
    {
     "data": {
      "text/html": [
       "<div>\n",
       "<style scoped>\n",
       "    .dataframe tbody tr th:only-of-type {\n",
       "        vertical-align: middle;\n",
       "    }\n",
       "\n",
       "    .dataframe tbody tr th {\n",
       "        vertical-align: top;\n",
       "    }\n",
       "\n",
       "    .dataframe thead th {\n",
       "        text-align: right;\n",
       "    }\n",
       "</style>\n",
       "<table border=\"1\" class=\"dataframe\">\n",
       "  <thead>\n",
       "    <tr style=\"text-align: right;\">\n",
       "      <th></th>\n",
       "      <th>mean</th>\n",
       "      <th>diff</th>\n",
       "      <th>risk</th>\n",
       "    </tr>\n",
       "    <tr>\n",
       "      <th>marital_status</th>\n",
       "      <th></th>\n",
       "      <th></th>\n",
       "      <th></th>\n",
       "    </tr>\n",
       "  </thead>\n",
       "  <tbody>\n",
       "    <tr>\n",
       "      <th>Divorced</th>\n",
       "      <td>0.497189</td>\n",
       "      <td>-0.000678</td>\n",
       "      <td>0.998638</td>\n",
       "    </tr>\n",
       "    <tr>\n",
       "      <th>Married</th>\n",
       "      <td>0.510074</td>\n",
       "      <td>0.012207</td>\n",
       "      <td>1.024519</td>\n",
       "    </tr>\n",
       "    <tr>\n",
       "      <th>Single</th>\n",
       "      <td>0.487005</td>\n",
       "      <td>-0.010861</td>\n",
       "      <td>0.978184</td>\n",
       "    </tr>\n",
       "  </tbody>\n",
       "</table>\n",
       "</div>"
      ],
      "text/plain": [
       "                    mean      diff      risk\n",
       "marital_status                              \n",
       "Divorced        0.497189 -0.000678  0.998638\n",
       "Married         0.510074  0.012207  1.024519\n",
       "Single          0.487005 -0.010861  0.978184"
      ]
     },
     "metadata": {},
     "output_type": "display_data"
    },
    {
     "data": {
      "text/html": [
       "<div>\n",
       "<style scoped>\n",
       "    .dataframe tbody tr th:only-of-type {\n",
       "        vertical-align: middle;\n",
       "    }\n",
       "\n",
       "    .dataframe tbody tr th {\n",
       "        vertical-align: top;\n",
       "    }\n",
       "\n",
       "    .dataframe thead th {\n",
       "        text-align: right;\n",
       "    }\n",
       "</style>\n",
       "<table border=\"1\" class=\"dataframe\">\n",
       "  <thead>\n",
       "    <tr style=\"text-align: right;\">\n",
       "      <th></th>\n",
       "      <th>mean</th>\n",
       "      <th>diff</th>\n",
       "      <th>risk</th>\n",
       "    </tr>\n",
       "    <tr>\n",
       "      <th>work_type</th>\n",
       "      <th></th>\n",
       "      <th></th>\n",
       "      <th></th>\n",
       "    </tr>\n",
       "  </thead>\n",
       "  <tbody>\n",
       "    <tr>\n",
       "      <th>Government Job</th>\n",
       "      <td>0.499191</td>\n",
       "      <td>0.001325</td>\n",
       "      <td>1.002661</td>\n",
       "    </tr>\n",
       "    <tr>\n",
       "      <th>Never Worked</th>\n",
       "      <td>0.494121</td>\n",
       "      <td>-0.003746</td>\n",
       "      <td>0.992476</td>\n",
       "    </tr>\n",
       "    <tr>\n",
       "      <th>Private</th>\n",
       "      <td>0.490551</td>\n",
       "      <td>-0.007315</td>\n",
       "      <td>0.985307</td>\n",
       "    </tr>\n",
       "    <tr>\n",
       "      <th>Self-employed</th>\n",
       "      <td>0.507393</td>\n",
       "      <td>0.009526</td>\n",
       "      <td>1.019134</td>\n",
       "    </tr>\n",
       "  </tbody>\n",
       "</table>\n",
       "</div>"
      ],
      "text/plain": [
       "                    mean      diff      risk\n",
       "work_type                                   \n",
       "Government Job  0.499191  0.001325  1.002661\n",
       "Never Worked    0.494121 -0.003746  0.992476\n",
       "Private         0.490551 -0.007315  0.985307\n",
       "Self-employed   0.507393  0.009526  1.019134"
      ]
     },
     "metadata": {},
     "output_type": "display_data"
    },
    {
     "data": {
      "text/html": [
       "<div>\n",
       "<style scoped>\n",
       "    .dataframe tbody tr th:only-of-type {\n",
       "        vertical-align: middle;\n",
       "    }\n",
       "\n",
       "    .dataframe tbody tr th {\n",
       "        vertical-align: top;\n",
       "    }\n",
       "\n",
       "    .dataframe thead th {\n",
       "        text-align: right;\n",
       "    }\n",
       "</style>\n",
       "<table border=\"1\" class=\"dataframe\">\n",
       "  <thead>\n",
       "    <tr style=\"text-align: right;\">\n",
       "      <th></th>\n",
       "      <th>mean</th>\n",
       "      <th>diff</th>\n",
       "      <th>risk</th>\n",
       "    </tr>\n",
       "    <tr>\n",
       "      <th>residence_type</th>\n",
       "      <th></th>\n",
       "      <th></th>\n",
       "      <th></th>\n",
       "    </tr>\n",
       "  </thead>\n",
       "  <tbody>\n",
       "    <tr>\n",
       "      <th>Rural</th>\n",
       "      <td>0.497676</td>\n",
       "      <td>-0.000191</td>\n",
       "      <td>0.999616</td>\n",
       "    </tr>\n",
       "    <tr>\n",
       "      <th>Urban</th>\n",
       "      <td>0.498059</td>\n",
       "      <td>0.000192</td>\n",
       "      <td>1.000387</td>\n",
       "    </tr>\n",
       "  </tbody>\n",
       "</table>\n",
       "</div>"
      ],
      "text/plain": [
       "                    mean      diff      risk\n",
       "residence_type                              \n",
       "Rural           0.497676 -0.000191  0.999616\n",
       "Urban           0.498059  0.000192  1.000387"
      ]
     },
     "metadata": {},
     "output_type": "display_data"
    },
    {
     "data": {
      "text/html": [
       "<div>\n",
       "<style scoped>\n",
       "    .dataframe tbody tr th:only-of-type {\n",
       "        vertical-align: middle;\n",
       "    }\n",
       "\n",
       "    .dataframe tbody tr th {\n",
       "        vertical-align: top;\n",
       "    }\n",
       "\n",
       "    .dataframe thead th {\n",
       "        text-align: right;\n",
       "    }\n",
       "</style>\n",
       "<table border=\"1\" class=\"dataframe\">\n",
       "  <thead>\n",
       "    <tr style=\"text-align: right;\">\n",
       "      <th></th>\n",
       "      <th>mean</th>\n",
       "      <th>diff</th>\n",
       "      <th>risk</th>\n",
       "    </tr>\n",
       "    <tr>\n",
       "      <th>smoking_status</th>\n",
       "      <th></th>\n",
       "      <th></th>\n",
       "      <th></th>\n",
       "    </tr>\n",
       "  </thead>\n",
       "  <tbody>\n",
       "    <tr>\n",
       "      <th>Currently Smokes</th>\n",
       "      <td>0.501497</td>\n",
       "      <td>0.003630</td>\n",
       "      <td>1.007291</td>\n",
       "    </tr>\n",
       "    <tr>\n",
       "      <th>Formerly Smoked</th>\n",
       "      <td>0.492369</td>\n",
       "      <td>-0.005497</td>\n",
       "      <td>0.988959</td>\n",
       "    </tr>\n",
       "    <tr>\n",
       "      <th>Non-smoker</th>\n",
       "      <td>0.499701</td>\n",
       "      <td>0.001834</td>\n",
       "      <td>1.003683</td>\n",
       "    </tr>\n",
       "  </tbody>\n",
       "</table>\n",
       "</div>"
      ],
      "text/plain": [
       "                      mean      diff      risk\n",
       "smoking_status                                \n",
       "Currently Smokes  0.501497  0.003630  1.007291\n",
       "Formerly Smoked   0.492369 -0.005497  0.988959\n",
       "Non-smoker        0.499701  0.001834  1.003683"
      ]
     },
     "metadata": {},
     "output_type": "display_data"
    },
    {
     "data": {
      "text/html": [
       "<div>\n",
       "<style scoped>\n",
       "    .dataframe tbody tr th:only-of-type {\n",
       "        vertical-align: middle;\n",
       "    }\n",
       "\n",
       "    .dataframe tbody tr th {\n",
       "        vertical-align: top;\n",
       "    }\n",
       "\n",
       "    .dataframe thead th {\n",
       "        text-align: right;\n",
       "    }\n",
       "</style>\n",
       "<table border=\"1\" class=\"dataframe\">\n",
       "  <thead>\n",
       "    <tr style=\"text-align: right;\">\n",
       "      <th></th>\n",
       "      <th>mean</th>\n",
       "      <th>diff</th>\n",
       "      <th>risk</th>\n",
       "    </tr>\n",
       "    <tr>\n",
       "      <th>alcohol_intake</th>\n",
       "      <th></th>\n",
       "      <th></th>\n",
       "      <th></th>\n",
       "    </tr>\n",
       "  </thead>\n",
       "  <tbody>\n",
       "    <tr>\n",
       "      <th>Frequent Drinker</th>\n",
       "      <td>0.494737</td>\n",
       "      <td>-0.003130</td>\n",
       "      <td>0.993714</td>\n",
       "    </tr>\n",
       "    <tr>\n",
       "      <th>Never</th>\n",
       "      <td>0.490748</td>\n",
       "      <td>-0.007118</td>\n",
       "      <td>0.985702</td>\n",
       "    </tr>\n",
       "    <tr>\n",
       "      <th>Rarely</th>\n",
       "      <td>0.508506</td>\n",
       "      <td>0.010639</td>\n",
       "      <td>1.021369</td>\n",
       "    </tr>\n",
       "    <tr>\n",
       "      <th>Social Drinker</th>\n",
       "      <td>0.497196</td>\n",
       "      <td>-0.000670</td>\n",
       "      <td>0.998653</td>\n",
       "    </tr>\n",
       "  </tbody>\n",
       "</table>\n",
       "</div>"
      ],
      "text/plain": [
       "                      mean      diff      risk\n",
       "alcohol_intake                                \n",
       "Frequent Drinker  0.494737 -0.003130  0.993714\n",
       "Never             0.490748 -0.007118  0.985702\n",
       "Rarely            0.508506  0.010639  1.021369\n",
       "Social Drinker    0.497196 -0.000670  0.998653"
      ]
     },
     "metadata": {},
     "output_type": "display_data"
    },
    {
     "data": {
      "text/html": [
       "<div>\n",
       "<style scoped>\n",
       "    .dataframe tbody tr th:only-of-type {\n",
       "        vertical-align: middle;\n",
       "    }\n",
       "\n",
       "    .dataframe tbody tr th {\n",
       "        vertical-align: top;\n",
       "    }\n",
       "\n",
       "    .dataframe thead th {\n",
       "        text-align: right;\n",
       "    }\n",
       "</style>\n",
       "<table border=\"1\" class=\"dataframe\">\n",
       "  <thead>\n",
       "    <tr style=\"text-align: right;\">\n",
       "      <th></th>\n",
       "      <th>mean</th>\n",
       "      <th>diff</th>\n",
       "      <th>risk</th>\n",
       "    </tr>\n",
       "    <tr>\n",
       "      <th>physical_activity</th>\n",
       "      <th></th>\n",
       "      <th></th>\n",
       "      <th></th>\n",
       "    </tr>\n",
       "  </thead>\n",
       "  <tbody>\n",
       "    <tr>\n",
       "      <th>High</th>\n",
       "      <td>0.494466</td>\n",
       "      <td>-0.003400</td>\n",
       "      <td>0.993170</td>\n",
       "    </tr>\n",
       "    <tr>\n",
       "      <th>Low</th>\n",
       "      <td>0.500000</td>\n",
       "      <td>0.002133</td>\n",
       "      <td>1.004285</td>\n",
       "    </tr>\n",
       "    <tr>\n",
       "      <th>Moderate</th>\n",
       "      <td>0.499200</td>\n",
       "      <td>0.001333</td>\n",
       "      <td>1.002677</td>\n",
       "    </tr>\n",
       "  </tbody>\n",
       "</table>\n",
       "</div>"
      ],
      "text/plain": [
       "                       mean      diff      risk\n",
       "physical_activity                              \n",
       "High               0.494466 -0.003400  0.993170\n",
       "Low                0.500000  0.002133  1.004285\n",
       "Moderate           0.499200  0.001333  1.002677"
      ]
     },
     "metadata": {},
     "output_type": "display_data"
    },
    {
     "data": {
      "text/html": [
       "<div>\n",
       "<style scoped>\n",
       "    .dataframe tbody tr th:only-of-type {\n",
       "        vertical-align: middle;\n",
       "    }\n",
       "\n",
       "    .dataframe tbody tr th {\n",
       "        vertical-align: top;\n",
       "    }\n",
       "\n",
       "    .dataframe thead th {\n",
       "        text-align: right;\n",
       "    }\n",
       "</style>\n",
       "<table border=\"1\" class=\"dataframe\">\n",
       "  <thead>\n",
       "    <tr style=\"text-align: right;\">\n",
       "      <th></th>\n",
       "      <th>mean</th>\n",
       "      <th>diff</th>\n",
       "      <th>risk</th>\n",
       "    </tr>\n",
       "    <tr>\n",
       "      <th>family_history_of_stroke</th>\n",
       "      <th></th>\n",
       "      <th></th>\n",
       "      <th></th>\n",
       "    </tr>\n",
       "  </thead>\n",
       "  <tbody>\n",
       "    <tr>\n",
       "      <th>No</th>\n",
       "      <td>0.502565</td>\n",
       "      <td>0.004698</td>\n",
       "      <td>1.009437</td>\n",
       "    </tr>\n",
       "    <tr>\n",
       "      <th>Yes</th>\n",
       "      <td>0.493282</td>\n",
       "      <td>-0.004584</td>\n",
       "      <td>0.990792</td>\n",
       "    </tr>\n",
       "  </tbody>\n",
       "</table>\n",
       "</div>"
      ],
      "text/plain": [
       "                              mean      diff      risk\n",
       "family_history_of_stroke                              \n",
       "No                        0.502565  0.004698  1.009437\n",
       "Yes                       0.493282 -0.004584  0.990792"
      ]
     },
     "metadata": {},
     "output_type": "display_data"
    },
    {
     "data": {
      "text/html": [
       "<div>\n",
       "<style scoped>\n",
       "    .dataframe tbody tr th:only-of-type {\n",
       "        vertical-align: middle;\n",
       "    }\n",
       "\n",
       "    .dataframe tbody tr th {\n",
       "        vertical-align: top;\n",
       "    }\n",
       "\n",
       "    .dataframe thead th {\n",
       "        text-align: right;\n",
       "    }\n",
       "</style>\n",
       "<table border=\"1\" class=\"dataframe\">\n",
       "  <thead>\n",
       "    <tr style=\"text-align: right;\">\n",
       "      <th></th>\n",
       "      <th>mean</th>\n",
       "      <th>diff</th>\n",
       "      <th>risk</th>\n",
       "    </tr>\n",
       "    <tr>\n",
       "      <th>dietary_habits</th>\n",
       "      <th></th>\n",
       "      <th></th>\n",
       "      <th></th>\n",
       "    </tr>\n",
       "  </thead>\n",
       "  <tbody>\n",
       "    <tr>\n",
       "      <th>Gluten-Free</th>\n",
       "      <td>0.496132</td>\n",
       "      <td>-0.001735</td>\n",
       "      <td>0.996515</td>\n",
       "    </tr>\n",
       "    <tr>\n",
       "      <th>Keto</th>\n",
       "      <td>0.507260</td>\n",
       "      <td>0.009393</td>\n",
       "      <td>1.018867</td>\n",
       "    </tr>\n",
       "    <tr>\n",
       "      <th>Non-Vegetarian</th>\n",
       "      <td>0.495802</td>\n",
       "      <td>-0.002064</td>\n",
       "      <td>0.995853</td>\n",
       "    </tr>\n",
       "    <tr>\n",
       "      <th>Paleo</th>\n",
       "      <td>0.510036</td>\n",
       "      <td>0.012170</td>\n",
       "      <td>1.024444</td>\n",
       "    </tr>\n",
       "    <tr>\n",
       "      <th>Pescatarian</th>\n",
       "      <td>0.487179</td>\n",
       "      <td>-0.010687</td>\n",
       "      <td>0.978534</td>\n",
       "    </tr>\n",
       "    <tr>\n",
       "      <th>Vegan</th>\n",
       "      <td>0.498856</td>\n",
       "      <td>0.000989</td>\n",
       "      <td>1.001987</td>\n",
       "    </tr>\n",
       "    <tr>\n",
       "      <th>Vegetarian</th>\n",
       "      <td>0.489401</td>\n",
       "      <td>-0.008466</td>\n",
       "      <td>0.982996</td>\n",
       "    </tr>\n",
       "  </tbody>\n",
       "</table>\n",
       "</div>"
      ],
      "text/plain": [
       "                    mean      diff      risk\n",
       "dietary_habits                              \n",
       "Gluten-Free     0.496132 -0.001735  0.996515\n",
       "Keto            0.507260  0.009393  1.018867\n",
       "Non-Vegetarian  0.495802 -0.002064  0.995853\n",
       "Paleo           0.510036  0.012170  1.024444\n",
       "Pescatarian     0.487179 -0.010687  0.978534\n",
       "Vegan           0.498856  0.000989  1.001987\n",
       "Vegetarian      0.489401 -0.008466  0.982996"
      ]
     },
     "metadata": {},
     "output_type": "display_data"
    }
   ],
   "source": [
    "\n",
    "for col in categorical:\n",
    "    df_group = df.groupby(by=col).diagnosis.agg(['mean'])\n",
    "    df_group['diff'] = df_group['mean'] - global_mean\n",
    "    df_group['risk'] = df_group['mean'] / global_mean\n",
    "    display(df_group)"
   ]
  },
  {
   "cell_type": "code",
   "execution_count": 15,
   "metadata": {},
   "outputs": [
    {
     "data": {
      "text/html": [
       "<div>\n",
       "<style scoped>\n",
       "    .dataframe tbody tr th:only-of-type {\n",
       "        vertical-align: middle;\n",
       "    }\n",
       "\n",
       "    .dataframe tbody tr th {\n",
       "        vertical-align: top;\n",
       "    }\n",
       "\n",
       "    .dataframe thead th {\n",
       "        text-align: right;\n",
       "    }\n",
       "</style>\n",
       "<table border=\"1\" class=\"dataframe\">\n",
       "  <thead>\n",
       "    <tr style=\"text-align: right;\">\n",
       "      <th></th>\n",
       "      <th>MI</th>\n",
       "    </tr>\n",
       "  </thead>\n",
       "  <tbody>\n",
       "    <tr>\n",
       "      <th>marital_status</th>\n",
       "      <td>0.000178</td>\n",
       "    </tr>\n",
       "    <tr>\n",
       "      <th>dietary_habits</th>\n",
       "      <td>0.000124</td>\n",
       "    </tr>\n",
       "    <tr>\n",
       "      <th>alcohol_intake</th>\n",
       "      <td>0.000088</td>\n",
       "    </tr>\n",
       "    <tr>\n",
       "      <th>work_type</th>\n",
       "      <td>0.000082</td>\n",
       "    </tr>\n",
       "    <tr>\n",
       "      <th>family_history_of_stroke</th>\n",
       "      <td>0.000043</td>\n",
       "    </tr>\n",
       "  </tbody>\n",
       "</table>\n",
       "</div>"
      ],
      "text/plain": [
       "                                MI\n",
       "marital_status            0.000178\n",
       "dietary_habits            0.000124\n",
       "alcohol_intake            0.000088\n",
       "work_type                 0.000082\n",
       "family_history_of_stroke  0.000043"
      ]
     },
     "metadata": {},
     "output_type": "display_data"
    },
    {
     "data": {
      "text/html": [
       "<div>\n",
       "<style scoped>\n",
       "    .dataframe tbody tr th:only-of-type {\n",
       "        vertical-align: middle;\n",
       "    }\n",
       "\n",
       "    .dataframe tbody tr th {\n",
       "        vertical-align: top;\n",
       "    }\n",
       "\n",
       "    .dataframe thead th {\n",
       "        text-align: right;\n",
       "    }\n",
       "</style>\n",
       "<table border=\"1\" class=\"dataframe\">\n",
       "  <thead>\n",
       "    <tr style=\"text-align: right;\">\n",
       "      <th></th>\n",
       "      <th>MI</th>\n",
       "    </tr>\n",
       "  </thead>\n",
       "  <tbody>\n",
       "    <tr>\n",
       "      <th>family_history_of_stroke</th>\n",
       "      <td>4.307630e-05</td>\n",
       "    </tr>\n",
       "    <tr>\n",
       "      <th>smoking_status</th>\n",
       "      <td>3.111716e-05</td>\n",
       "    </tr>\n",
       "    <tr>\n",
       "      <th>physical_activity</th>\n",
       "      <td>1.198377e-05</td>\n",
       "    </tr>\n",
       "    <tr>\n",
       "      <th>gender</th>\n",
       "      <td>6.455115e-07</td>\n",
       "    </tr>\n",
       "    <tr>\n",
       "      <th>residence_type</th>\n",
       "      <td>7.353942e-08</td>\n",
       "    </tr>\n",
       "  </tbody>\n",
       "</table>\n",
       "</div>"
      ],
      "text/plain": [
       "                                    MI\n",
       "family_history_of_stroke  4.307630e-05\n",
       "smoking_status            3.111716e-05\n",
       "physical_activity         1.198377e-05\n",
       "gender                    6.455115e-07\n",
       "residence_type            7.353942e-08"
      ]
     },
     "metadata": {},
     "output_type": "display_data"
    }
   ],
   "source": [
    "def calculate_mi(series):\n",
    "    return mutual_info_score(series, df.diagnosis)\n",
    "\n",
    "df_mi = df[categorical].apply(calculate_mi)\n",
    "df_mi = df_mi.sort_values(ascending=False).to_frame(name='MI')\n",
    "\n",
    "\n",
    "display(df_mi.head())\n",
    "display(df_mi.tail())"
   ]
  },
  {
   "cell_type": "code",
   "execution_count": 16,
   "metadata": {},
   "outputs": [],
   "source": [
    "tmp = pd.DataFrame(df[\"blood_pressure_levels\"].str.split('/').tolist(), columns=[\"systolic\", \"diastolic\"])\n",
    "tmp[\"systolic\"] = tmp[\"systolic\"].astype(int)\n",
    "tmp[\"diastolic\"] = tmp[\"diastolic\"].astype(int)\n",
    "df_with_features = df.join(pd.DataFrame(tmp))"
   ]
  },
  {
   "cell_type": "code",
   "execution_count": 17,
   "metadata": {},
   "outputs": [],
   "source": [
    "l = [(int(items[0].split(\" \")[1]), int(items[1].split(\" \")[1])) for items in df[\"cholesterol_levels\"].str.split(', ')]\n",
    "df_with_features = df_with_features.join(pd.DataFrame(l, columns=[\"hdl\", \"ldl\"]))\n"
   ]
  },
  {
   "cell_type": "code",
   "execution_count": 18,
   "metadata": {},
   "outputs": [
    {
     "name": "stderr",
     "output_type": "stream",
     "text": [
      "/home/andy/.local/lib/python3.10/site-packages/sklearn/feature_extraction/text.py:1375: UserWarning: Upper case characters found in vocabulary while 'lowercase' is True. These entries will not be matched with any documents\n",
      "  warnings.warn(\n"
     ]
    }
   ],
   "source": [
    "unique_symptoms = set(symptom for symptoms in df['symptoms'].tolist() for symptom in symptoms.split(\", \"))\n",
    "vectorizer = CountVectorizer(vocabulary=unique_symptoms, binary=True, lowercase=True)\n",
    "symptoms_bow = vectorizer.fit_transform(df['symptoms'])\n",
    "df_with_features = df_with_features.join(pd.DataFrame(symptoms_bow.toarray(), columns=vectorizer.get_feature_names_out()))"
   ]
  },
  {
   "cell_type": "code",
   "execution_count": 19,
   "metadata": {},
   "outputs": [
    {
     "data": {
      "text/plain": [
       "Index(['age', 'gender', 'hypertension', 'heart_disease', 'marital_status',\n",
       "       'work_type', 'residence_type', 'average_glucose_level',\n",
       "       'body_mass_index_(bmi)', 'smoking_status', 'alcohol_intake',\n",
       "       'physical_activity', 'stroke_history', 'family_history_of_stroke',\n",
       "       'dietary_habits', 'stress_levels', 'blood_pressure_levels',\n",
       "       'cholesterol_levels', 'symptoms', 'diagnosis', 'systolic', 'diastolic',\n",
       "       'hdl', 'ldl', 'blurred_vision', 'confusion', 'difficulty_speaking',\n",
       "       'dizziness', 'headache', 'loss_of_balance', 'no_symptoms', 'numbness',\n",
       "       'seizures', 'severe_fatigue', 'weakness'],\n",
       "      dtype='object')"
      ]
     },
     "execution_count": 19,
     "metadata": {},
     "output_type": "execute_result"
    }
   ],
   "source": [
    "df_with_features.columns = df_with_features.columns.str.lower().str.replace(\" \", \"_\")\n",
    "df_with_features.columns"
   ]
  },
  {
   "cell_type": "code",
   "execution_count": 20,
   "metadata": {},
   "outputs": [],
   "source": [
    "del df_with_features[\"blood_pressure_levels\"]\n",
    "del df_with_features[\"cholesterol_levels\"]\n",
    "del df_with_features[\"symptoms\"]"
   ]
  },
  {
   "cell_type": "code",
   "execution_count": 21,
   "metadata": {},
   "outputs": [],
   "source": [
    "df_full_train, df_test = train_test_split(df_with_features, test_size=0.2, random_state=1)\n",
    "df_train, df_val = train_test_split(df_full_train, test_size=0.25, random_state=1)\n",
    "\n",
    "y_full_train = df_full_train[\"diagnosis\"].values\n",
    "y_test = df_test[\"diagnosis\"].values\n",
    "y_train = df_train[\"diagnosis\"].values\n",
    "y_val = df_val[\"diagnosis\"].values\n",
    "\n",
    "del df_full_train[\"diagnosis\"]\n",
    "del df_test[\"diagnosis\"]\n",
    "del df_train[\"diagnosis\"]\n",
    "del df_val[\"diagnosis\"]\n",
    "\n",
    "dv = DictVectorizer(sparse=True)\n",
    "train_dict = df_train.to_dict(orient=\"records\")\n",
    "val_dict = df_val.to_dict(orient=\"records\")\n",
    "full_train_dict = df_full_train.to_dict(orient=\"records\")\n",
    "X_train = dv.fit_transform(train_dict)\n",
    "X_val = dv.transform(val_dict)\n",
    "X_full_train = dv.transform(full_train_dict)"
   ]
  },
  {
   "cell_type": "code",
   "execution_count": 22,
   "metadata": {},
   "outputs": [
    {
     "data": {
      "text/plain": [
       "[<matplotlib.lines.Line2D at 0x7fe07c506590>]"
      ]
     },
     "execution_count": 22,
     "metadata": {},
     "output_type": "execute_result"
    },
    {
     "data": {
      "image/png": "[encoded data removed]",
      "text/plain": [
       "<Figure size 640x480 with 1 Axes>"
      ]
     },
     "metadata": {},
     "output_type": "display_data"
    }
   ],
   "source": [
    "scores = []\n",
    "for depth in range(1, 10):\n",
    "    dt = DecisionTreeRegressor(max_depth=depth)\n",
    "    dt.fit(X_train, y_train)\n",
    "    y_pred = dt.predict(X_val)\n",
    "    scores.append(mean_squared_error(y_val, y_pred))\n",
    "\n",
    "plt.plot(range(1, 10), scores)"
   ]
  },
  {
   "cell_type": "code",
   "execution_count": 23,
   "metadata": {},
   "outputs": [],
   "source": [
    "scores = []\n",
    "depths = [2, 3, 5, 6]\n",
    "for depth in depths:\n",
    "    for estimators in range(100, 201, 10):\n",
    "        rf = RandomForestRegressor(n_estimators=estimators, max_depth=depth, random_state=1)\n",
    "        rf.fit(X_train, y_train)\n",
    "        y_pred = rf.predict(X_val)\n",
    "        scores.append((depth, estimators,mean_squared_error(y_val, y_pred)))"
   ]
  },
  {
   "cell_type": "code",
   "execution_count": 24,
   "metadata": {},
   "outputs": [],
   "source": [
    "columns = [\"depth\", \"estimators\", \"rmse\"]\n",
    "df_scores = pd.DataFrame(scores, columns=columns)"
   ]
  },
  {
   "cell_type": "code",
   "execution_count": 25,
   "metadata": {},
   "outputs": [
    {
     "data": {
      "text/plain": [
       "<matplotlib.legend.Legend at 0x7fe07c58fcd0>"
      ]
     },
     "execution_count": 25,
     "metadata": {},
     "output_type": "execute_result"
    },
    {
     "data": {
      "image/png": "[encoded data removed]",
      "text/plain": [
       "<Figure size 640x480 with 1 Axes>"
      ]
     },
     "metadata": {},
     "output_type": "display_data"
    }
   ],
   "source": [
    "for depth in depths:\n",
    "    df_subset = df_scores[df_scores[\"depth\"] == depth]\n",
    "    plt.plot(df_subset[\"estimators\"], df_subset[\"rmse\"], label=\"depth-%d\" % depth)\n",
    "\n",
    "plt.legend()"
   ]
  },
  {
   "cell_type": "code",
   "execution_count": 26,
   "metadata": {},
   "outputs": [],
   "source": [
    "xgb_params = {\n",
    "    'eta': 0.1, \n",
    "    'max_depth': 10,\n",
    "    'min_child_weight': 1,\n",
    "    \n",
    "    'objective': 'reg:squarederror',\n",
    "    'nthread': 8,\n",
    "    \n",
    "    'seed': 1,\n",
    "    'verbosity': 1,\n",
    "}\n",
    "\n",
    "features = dv.get_feature_names_out()\n",
    "features= [i.replace(\"=<\", \"_\") for i in features]\n",
    "dtrain = xgb.DMatrix(X_train, y_train, feature_names=features)\n",
    "dval = xgb.DMatrix(X_val, y_val, feature_names=features)"
   ]
  },
  {
   "cell_type": "code",
   "execution_count": 27,
   "metadata": {},
   "outputs": [],
   "source": [
    "scores_xgb = []\n",
    "for min_child_weight in range(1, 40, 5):\n",
    "    for depth in range(1, 5):\n",
    "        xgb_params['min_child_weight'] = min_child_weight\n",
    "        xgb_params['max_depth'] = depth\n",
    "        model = xgb.train(xgb_params, dtrain, num_boost_round=100)\n",
    "        y_pred = model.predict(dval)\n",
    "        scores_xgb.append((min_child_weight, depth, mean_squared_error(y_val, y_pred)))"
   ]
  },
  {
   "cell_type": "code",
   "execution_count": 28,
   "metadata": {},
   "outputs": [],
   "source": [
    "columns = [\"min_child_weight\", \"depth\", \"mse\"]\n",
    "df_scores = pd.DataFrame(scores_xgb, columns=columns)"
   ]
  },
  {
   "cell_type": "code",
   "execution_count": 29,
   "metadata": {},
   "outputs": [
    {
     "data": {
      "text/plain": [
       "<matplotlib.legend.Legend at 0x7fe0e8337e50>"
      ]
     },
     "execution_count": 29,
     "metadata": {},
     "output_type": "execute_result"
    },
    {
     "data": {
      "image/png": "[encoded data removed]",
      "text/plain": [
       "<Figure size 640x480 with 1 Axes>"
      ]
     },
     "metadata": {},
     "output_type": "display_data"
    }
   ],
   "source": [
    "for depth in range(1,5):\n",
    "    df_subset = df_scores[df_scores[\"depth\"] == depth]\n",
    "    plt.plot(df_subset[\"min_child_weight\"], df_subset[\"mse\"], label=\"depth-%d\" % depth)\n",
    "\n",
    "plt.legend()"
   ]
  }
 ],
 "metadata": {
  "kernelspec": {
   "display_name": "Python 3",
   "language": "python",
   "name": "python3"
  },
  "language_info": {
   "codemirror_mode": {
    "name": "ipython",
    "version": 3
   },
   "file_extension": ".py",
   "mimetype": "text/x-python",
   "name": "python",
   "nbconvert_exporter": "python",
   "pygments_lexer": "ipython3",
   "version": "3.10.12"
  }
 },
 "nbformat": 4,
 "nbformat_minor": 2
}
